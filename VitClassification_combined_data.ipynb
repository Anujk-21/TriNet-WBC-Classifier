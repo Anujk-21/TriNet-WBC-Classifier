{
 "cells": [
  {
   "cell_type": "code",
   "execution_count": 1,
   "metadata": {},
   "outputs": [
    {
     "name": "stderr",
     "output_type": "stream",
     "text": [
      "d:\\Major_WBC_Project\\vtproject\\lib\\site-packages\\tqdm\\auto.py:21: TqdmWarning: IProgress not found. Please update jupyter and ipywidgets. See https://ipywidgets.readthedocs.io/en/stable/user_install.html\n",
      "  from .autonotebook import tqdm as notebook_tqdm\n"
     ]
    }
   ],
   "source": [
    "import torch\n",
    "import torchvision.transforms as transforms\n",
    "from torchvision import datasets\n",
    "from torch.utils.data import DataLoader\n",
    "from transformers import ViTForImageClassification, ViTFeatureExtractor\n",
    "from sklearn.metrics import classification_report, confusion_matrix, roc_curve, auc\n",
    "import matplotlib.pyplot as plt\n",
    "import seaborn as sns\n",
    "import numpy as np\n",
    "import os\n",
    "import cv2"
   ]
  },
  {
   "cell_type": "code",
   "execution_count": 2,
   "metadata": {},
   "outputs": [],
   "source": [
    "# Define image transformations\n",
    "transform = transforms.Compose([\n",
    "    transforms.Resize((224, 224)),  # Vision Transformer Input Size\n",
    "    transforms.ToTensor(),\n",
    "    transforms.Normalize([0.5, 0.5, 0.5], [0.5, 0.5, 0.5])\n",
    "])"
   ]
  },
  {
   "cell_type": "code",
   "execution_count": 3,
   "metadata": {},
   "outputs": [],
   "source": [
    "# Load Dataset\n",
    "train_dataset = datasets.ImageFolder(root=r\"D:\\Major_WBC_Project\\Combined_Dataset\\Train\", transform=transform)\n",
    "val_dataset = datasets.ImageFolder(root=r\"D:\\Major_WBC_Project\\Combined_Dataset\\Val\", transform=transform)"
   ]
  },
  {
   "cell_type": "code",
   "execution_count": 4,
   "metadata": {},
   "outputs": [],
   "source": [
    "train_loader = DataLoader(train_dataset, batch_size=32, shuffle=True)\n",
    "val_loader = DataLoader(val_dataset, batch_size=8, shuffle=False)"
   ]
  },
  {
   "cell_type": "code",
   "execution_count": 5,
   "metadata": {},
   "outputs": [
    {
     "name": "stderr",
     "output_type": "stream",
     "text": [
      "d:\\Major_WBC_Project\\vtproject\\lib\\site-packages\\transformers\\models\\vit\\feature_extraction_vit.py:28: FutureWarning: The class ViTFeatureExtractor is deprecated and will be removed in version 5 of Transformers. Please use ViTImageProcessor instead.\n",
      "  warnings.warn(\n",
      "Some weights of ViTForImageClassification were not initialized from the model checkpoint at google/vit-base-patch16-224 and are newly initialized because the shapes did not match:\n",
      "- classifier.bias: found shape torch.Size([1000]) in the checkpoint and torch.Size([5]) in the model instantiated\n",
      "- classifier.weight: found shape torch.Size([1000, 768]) in the checkpoint and torch.Size([5, 768]) in the model instantiated\n",
      "You should probably TRAIN this model on a down-stream task to be able to use it for predictions and inference.\n"
     ]
    }
   ],
   "source": [
    "feature_extractor = ViTFeatureExtractor.from_pretrained(\"google/vit-base-patch16-224\")\n",
    "model = ViTForImageClassification.from_pretrained(\"google/vit-base-patch16-224\", num_labels=len(train_dataset.classes), ignore_mismatched_sizes=True)"
   ]
  },
  {
   "cell_type": "code",
   "execution_count": 6,
   "metadata": {},
   "outputs": [
    {
     "name": "stdout",
     "output_type": "stream",
     "text": [
      "Using Device: cuda\n"
     ]
    }
   ],
   "source": [
    "torch.backends.cudnn.enabled = True\n",
    "torch.backends.cudnn.benchmark = True\n",
    "device = torch.device(\"cuda\" if torch.cuda.is_available() else \"cpu\")\n",
    "print(f\"Using Device: {device}\")"
   ]
  },
  {
   "cell_type": "code",
   "execution_count": 7,
   "metadata": {},
   "outputs": [
    {
     "data": {
      "text/plain": [
       "ViTForImageClassification(\n",
       "  (vit): ViTModel(\n",
       "    (embeddings): ViTEmbeddings(\n",
       "      (patch_embeddings): ViTPatchEmbeddings(\n",
       "        (projection): Conv2d(3, 768, kernel_size=(16, 16), stride=(16, 16))\n",
       "      )\n",
       "      (dropout): Dropout(p=0.0, inplace=False)\n",
       "    )\n",
       "    (encoder): ViTEncoder(\n",
       "      (layer): ModuleList(\n",
       "        (0-11): 12 x ViTLayer(\n",
       "          (attention): ViTSdpaAttention(\n",
       "            (attention): ViTSdpaSelfAttention(\n",
       "              (query): Linear(in_features=768, out_features=768, bias=True)\n",
       "              (key): Linear(in_features=768, out_features=768, bias=True)\n",
       "              (value): Linear(in_features=768, out_features=768, bias=True)\n",
       "              (dropout): Dropout(p=0.0, inplace=False)\n",
       "            )\n",
       "            (output): ViTSelfOutput(\n",
       "              (dense): Linear(in_features=768, out_features=768, bias=True)\n",
       "              (dropout): Dropout(p=0.0, inplace=False)\n",
       "            )\n",
       "          )\n",
       "          (intermediate): ViTIntermediate(\n",
       "            (dense): Linear(in_features=768, out_features=3072, bias=True)\n",
       "            (intermediate_act_fn): GELUActivation()\n",
       "          )\n",
       "          (output): ViTOutput(\n",
       "            (dense): Linear(in_features=3072, out_features=768, bias=True)\n",
       "            (dropout): Dropout(p=0.0, inplace=False)\n",
       "          )\n",
       "          (layernorm_before): LayerNorm((768,), eps=1e-12, elementwise_affine=True)\n",
       "          (layernorm_after): LayerNorm((768,), eps=1e-12, elementwise_affine=True)\n",
       "        )\n",
       "      )\n",
       "    )\n",
       "    (layernorm): LayerNorm((768,), eps=1e-12, elementwise_affine=True)\n",
       "  )\n",
       "  (classifier): Linear(in_features=768, out_features=5, bias=True)\n",
       ")"
      ]
     },
     "execution_count": 7,
     "metadata": {},
     "output_type": "execute_result"
    }
   ],
   "source": [
    "device = torch.device(\"cuda\" if torch.cuda.is_available() else \"cpu\")\n",
    "model.to(device)"
   ]
  },
  {
   "cell_type": "code",
   "execution_count": 14,
   "metadata": {},
   "outputs": [],
   "source": [
    "optimizer = torch.optim.Adam(model.parameters(), lr=0.0001)\n",
    "criterion = torch.nn.CrossEntropyLoss()\n",
    "epochs = 4"
   ]
  },
  {
   "cell_type": "code",
   "execution_count": 15,
   "metadata": {},
   "outputs": [
    {
     "name": "stdout",
     "output_type": "stream",
     "text": [
      "Epoch [1/4] Batch [1/16] Loss: 1.0235\n",
      "Epoch [1/4] Batch [2/16] Loss: 0.9809\n",
      "Epoch [1/4] Batch [3/16] Loss: 0.9770\n",
      "Epoch [1/4] Batch [4/16] Loss: 0.7757\n",
      "Epoch [1/4] Batch [5/16] Loss: 0.6928\n",
      "Epoch [1/4] Batch [6/16] Loss: 0.8273\n",
      "Epoch [1/4] Batch [7/16] Loss: 0.9461\n",
      "Epoch [1/4] Batch [8/16] Loss: 0.8573\n",
      "Epoch [1/4] Batch [9/16] Loss: 0.6515\n",
      "Epoch [1/4] Batch [10/16] Loss: 0.5964\n",
      "Epoch [1/4] Batch [11/16] Loss: 0.7181\n",
      "Epoch [1/4] Batch [12/16] Loss: 0.7305\n",
      "Epoch [1/4] Batch [13/16] Loss: 0.4811\n",
      "Epoch [1/4] Batch [14/16] Loss: 0.5121\n",
      "Epoch [1/4] Batch [15/16] Loss: 0.6751\n",
      "Epoch [1/4] Batch [16/16] Loss: 0.4042\n",
      "Epoch 1/4 Completed, Average Loss: 0.7406\n",
      "Epoch [2/4] Batch [1/16] Loss: 0.2416\n",
      "Epoch [2/4] Batch [2/16] Loss: 0.3319\n",
      "Epoch [2/4] Batch [3/16] Loss: 0.3351\n",
      "Epoch [2/4] Batch [4/16] Loss: 0.3833\n",
      "Epoch [2/4] Batch [5/16] Loss: 0.2378\n",
      "Epoch [2/4] Batch [6/16] Loss: 0.4332\n",
      "Epoch [2/4] Batch [7/16] Loss: 0.1688\n",
      "Epoch [2/4] Batch [8/16] Loss: 0.5191\n",
      "Epoch [2/4] Batch [9/16] Loss: 0.3231\n",
      "Epoch [2/4] Batch [10/16] Loss: 0.3917\n",
      "Epoch [2/4] Batch [11/16] Loss: 0.3505\n",
      "Epoch [2/4] Batch [12/16] Loss: 0.2956\n",
      "Epoch [2/4] Batch [13/16] Loss: 0.2080\n",
      "Epoch [2/4] Batch [14/16] Loss: 0.2525\n",
      "Epoch [2/4] Batch [15/16] Loss: 0.3004\n",
      "Epoch [2/4] Batch [16/16] Loss: 0.2144\n",
      "Epoch 2/4 Completed, Average Loss: 0.3117\n",
      "Epoch [3/4] Batch [1/16] Loss: 0.0728\n",
      "Epoch [3/4] Batch [2/16] Loss: 0.0833\n",
      "Epoch [3/4] Batch [3/16] Loss: 0.1702\n",
      "Epoch [3/4] Batch [4/16] Loss: 0.1806\n",
      "Epoch [3/4] Batch [5/16] Loss: 0.0468\n",
      "Epoch [3/4] Batch [6/16] Loss: 0.1377\n",
      "Epoch [3/4] Batch [7/16] Loss: 0.1366\n",
      "Epoch [3/4] Batch [8/16] Loss: 0.1651\n",
      "Epoch [3/4] Batch [9/16] Loss: 0.0805\n",
      "Epoch [3/4] Batch [10/16] Loss: 0.1750\n",
      "Epoch [3/4] Batch [11/16] Loss: 0.2939\n",
      "Epoch [3/4] Batch [12/16] Loss: 0.1353\n",
      "Epoch [3/4] Batch [13/16] Loss: 0.1398\n",
      "Epoch [3/4] Batch [14/16] Loss: 0.1039\n",
      "Epoch [3/4] Batch [15/16] Loss: 0.1867\n",
      "Epoch [3/4] Batch [16/16] Loss: 0.1712\n",
      "Epoch 3/4 Completed, Average Loss: 0.1425\n",
      "Epoch [4/4] Batch [1/16] Loss: 0.0281\n",
      "Epoch [4/4] Batch [2/16] Loss: 0.1444\n",
      "Epoch [4/4] Batch [3/16] Loss: 0.0319\n",
      "Epoch [4/4] Batch [4/16] Loss: 0.1283\n",
      "Epoch [4/4] Batch [5/16] Loss: 0.1786\n",
      "Epoch [4/4] Batch [6/16] Loss: 0.0826\n",
      "Epoch [4/4] Batch [7/16] Loss: 0.1137\n",
      "Epoch [4/4] Batch [8/16] Loss: 0.0655\n",
      "Epoch [4/4] Batch [9/16] Loss: 0.0802\n",
      "Epoch [4/4] Batch [10/16] Loss: 0.0867\n",
      "Epoch [4/4] Batch [11/16] Loss: 0.2265\n",
      "Epoch [4/4] Batch [12/16] Loss: 0.0643\n",
      "Epoch [4/4] Batch [13/16] Loss: 0.0225\n",
      "Epoch [4/4] Batch [14/16] Loss: 0.1066\n",
      "Epoch [4/4] Batch [15/16] Loss: 0.0492\n",
      "Epoch [4/4] Batch [16/16] Loss: 0.0589\n",
      "Epoch 4/4 Completed, Average Loss: 0.0918\n"
     ]
    }
   ],
   "source": [
    "# Training Loop\n",
    "for epoch in range(epochs):\n",
    "    model.train()\n",
    "    running_loss = 0.0\n",
    "    for batch_idx, (images, labels) in enumerate(train_loader):\n",
    "        images, labels = images.to(device), labels.to(device)\n",
    "        optimizer.zero_grad()\n",
    "        outputs = model(images).logits\n",
    "        loss = criterion(outputs, labels)\n",
    "        loss.backward()\n",
    "        optimizer.step()\n",
    "        running_loss += loss.item()\n",
    "        \n",
    "        print(f\"Epoch [{epoch+1}/{epochs}] Batch [{batch_idx+1}/{len(train_loader)}] Loss: {loss.item():.4f}\")\n",
    "\n",
    "    print(f\"Epoch {epoch+1}/{epochs} Completed, Average Loss: {running_loss/len(train_loader):.4f}\")\n"
   ]
  },
  {
   "cell_type": "code",
   "execution_count": 16,
   "metadata": {},
   "outputs": [
    {
     "name": "stdout",
     "output_type": "stream",
     "text": [
      "Model Saved Successfully ✅\n"
     ]
    }
   ],
   "source": [
    "# Save Model\n",
    "torch.save(model.state_dict(), \"Vit_combined_data.pth\")\n",
    "print(\"Model Saved Successfully ✅\")"
   ]
  },
  {
   "cell_type": "code",
   "execution_count": 17,
   "metadata": {},
   "outputs": [],
   "source": [
    "model.eval()\n",
    "y_true, y_pred, y_prob = [], [], []\n",
    "\n",
    "with torch.no_grad():\n",
    "    for images, labels in val_loader:\n",
    "        images, labels = images.to(device), labels.to(device)\n",
    "        outputs = model(images).logits\n",
    "        probs = torch.softmax(outputs, dim=1)\n",
    "        _, preds = torch.max(outputs, 1)\n",
    "        y_true.extend(labels.cpu().numpy())\n",
    "        y_pred.extend(preds.cpu().numpy())\n",
    "        y_prob.extend(probs.cpu().numpy())"
   ]
  },
  {
   "cell_type": "code",
   "execution_count": 18,
   "metadata": {},
   "outputs": [
    {
     "name": "stdout",
     "output_type": "stream",
     "text": [
      "Validation Accuracy: 76.67%\n"
     ]
    }
   ],
   "source": [
    "# Validation Accuracy Calculation\n",
    "model.eval()\n",
    "correct = 0\n",
    "total = 0\n",
    "\n",
    "with torch.no_grad():\n",
    "    for images, labels in val_loader:\n",
    "        images, labels = images.to(device), labels.to(device)\n",
    "        outputs = model(images).logits\n",
    "        _, predicted = torch.max(outputs, 1)\n",
    "        total += labels.size(0)\n",
    "        correct += (predicted == labels).sum().item()\n",
    "\n",
    "val_acc = 100 * correct / total\n",
    "print(f\"Validation Accuracy: {val_acc:.2f}%\")"
   ]
  },
  {
   "cell_type": "code",
   "execution_count": 19,
   "metadata": {},
   "outputs": [
    {
     "name": "stdout",
     "output_type": "stream",
     "text": [
      "Classification Report:\n",
      "               precision    recall  f1-score   support\n",
      "\n",
      "        Baso       1.00      0.83      0.91        30\n",
      "      Eosino       0.63      0.73      0.68        30\n",
      "      Lympho       0.78      0.97      0.87        30\n",
      "        Mono       0.69      0.73      0.71        30\n",
      "      Neutro       0.81      0.57      0.67        30\n",
      "\n",
      "    accuracy                           0.77       150\n",
      "   macro avg       0.78      0.77      0.77       150\n",
      "weighted avg       0.78      0.77      0.77       150\n",
      "\n"
     ]
    }
   ],
   "source": [
    "# Classification Report\n",
    "print(\"Classification Report:\\n\", classification_report(y_true, y_pred, target_names=train_dataset.classes))\n"
   ]
  },
  {
   "cell_type": "code",
   "execution_count": 20,
   "metadata": {},
   "outputs": [
    {
     "data": {
      "image/png": "[encoded data removed]",
      "text/plain": [
       "<Figure size 640x480 with 2 Axes>"
      ]
     },
     "metadata": {},
     "output_type": "display_data"
    }
   ],
   "source": [
    "# Confusion Matrix\n",
    "cm = confusion_matrix(y_true, y_pred)\n",
    "sns.heatmap(cm, annot=True, fmt=\"d\", cmap=\"Blues\", xticklabels=train_dataset.classes, yticklabels=train_dataset.classes)\n",
    "plt.title(\"Confusion Matrix\")\n",
    "plt.xlabel(\"Predicted\")\n",
    "plt.ylabel(\"Actual\")\n",
    "plt.show()"
   ]
  },
  {
   "cell_type": "code",
   "execution_count": 21,
   "metadata": {},
   "outputs": [
    {
     "data": {
      "image/png": "[encoded data removed]",
      "text/plain": [
       "<Figure size 640x480 with 1 Axes>"
      ]
     },
     "metadata": {},
     "output_type": "display_data"
    }
   ],
   "source": [
    "# ROC Curve\n",
    "fpr = dict()\n",
    "tpr = dict()\n",
    "roc_auc = dict()\n",
    "\n",
    "for i in range(len(train_dataset.classes)):\n",
    "    fpr[i], tpr[i], _ = roc_curve(np.array(y_true) == i, np.array(y_prob)[:, i])\n",
    "    roc_auc[i] = auc(fpr[i], tpr[i])\n",
    "    plt.plot(fpr[i], tpr[i], label=f\"{train_dataset.classes[i]} (AUC = {roc_auc[i]:.2f})\")\n",
    "\n",
    "plt.plot([0, 1], [0, 1], 'k--')\n",
    "plt.title(\"ROC Curve\")\n",
    "plt.xlabel(\"False Positive Rate\")\n",
    "plt.ylabel(\"True Positive Rate\")\n",
    "plt.legend()\n",
    "plt.show()\n"
   ]
  },
  {
   "cell_type": "code",
   "execution_count": 22,
   "metadata": {},
   "outputs": [
    {
     "name": "stdout",
     "output_type": "stream",
     "text": [
      "Accuracy: 0.7667\n",
      "Precision: 0.7819\n",
      "Recall: 0.7667\n",
      "F1 Score: 0.7656\n",
      "RMSE: 1.0296\n"
     ]
    }
   ],
   "source": [
    "from sklearn.metrics import classification_report, confusion_matrix, roc_curve, auc, accuracy_score, precision_score, recall_score, f1_score, mean_squared_error\n",
    "# Accuracy\n",
    "accuracy = accuracy_score(y_true, y_pred)\n",
    "print(f\"Accuracy: {accuracy:.4f}\")\n",
    "\n",
    "# Precision\n",
    "precision = precision_score(y_true, y_pred, average='weighted')\n",
    "print(f\"Precision: {precision:.4f}\")\n",
    "\n",
    "# Recall\n",
    "recall = recall_score(y_true, y_pred, average='weighted')\n",
    "print(f\"Recall: {recall:.4f}\")\n",
    "\n",
    "# F1 Score\n",
    "f1 = f1_score(y_true, y_pred, average='weighted')\n",
    "print(f\"F1 Score: {f1:.4f}\")\n",
    "\n",
    "# RMSE\n",
    "rmse = np.sqrt(mean_squared_error(y_true, y_pred))\n",
    "print(f\"RMSE: {rmse:.4f}\")"
   ]
  },
  {
   "cell_type": "code",
   "execution_count": null,
   "metadata": {},
   "outputs": [],
   "source": []
  }
 ],
 "metadata": {
  "kernelspec": {
   "display_name": "vtproject",
   "language": "python",
   "name": "python3"
  },
  "language_info": {
   "codemirror_mode": {
    "name": "ipython",
    "version": 3
   },
   "file_extension": ".py",
   "mimetype": "text/x-python",
   "name": "python",
   "nbconvert_exporter": "python",
   "pygments_lexer": "ipython3",
   "version": "3.9.12"
  }
 },
 "nbformat": 4,
 "nbformat_minor": 2
}
